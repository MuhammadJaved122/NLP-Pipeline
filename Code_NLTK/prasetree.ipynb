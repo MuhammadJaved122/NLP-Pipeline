{
 "cells": [
  {
   "cell_type": "code",
   "execution_count": 5,
   "id": "ecda577b-7c98-418b-a806-a11a6cf51b19",
   "metadata": {},
   "outputs": [
    {
     "name": "stdout",
     "output_type": "stream",
     "text": [
      "(S (NP (Det the) (N dog)) (VP (V saw) (NP (Det a) (N cat))))\n",
      "             S             \n",
      "      _______|___           \n",
      "     |           VP        \n",
      "     |        ___|___       \n",
      "     NP      |       NP    \n",
      "  ___|___    |    ___|___   \n",
      "Det      N   V  Det      N \n",
      " |       |   |   |       |  \n",
      "the     dog saw  a      cat\n",
      "\n"
     ]
    }
   ],
   "source": [
    "import nltk\n",
    "from nltk import CFG\n",
    "\n",
    "# Define a simple context-free grammar\n",
    "grammar = CFG.fromstring(\"\"\"\n",
    "  S -> NP VP\n",
    "  NP -> Det N | Det N PP\n",
    "  VP -> V NP | VP PP\n",
    "  PP -> P NP\n",
    "  Det -> 'a' | 'the'\n",
    "  N -> 'dog' | 'cat' | 'park'\n",
    "  V -> 'saw' | 'ate'\n",
    "  P -> 'in' | 'with'\n",
    "\"\"\")\n",
    "\n",
    "# Create a parser with the defined grammar\n",
    "parser = nltk.ChartParser(grammar)\n",
    "\n",
    "# Define a sentence to parse\n",
    "sentence = 'the dog saw a cat'.split()\n",
    "\n",
    "# Parse the sentence and generate parse trees\n",
    "for tree in parser.parse(sentence):\n",
    "    print(tree)\n",
    "    tree.pretty_print()  # Print the tree in a pretty format\n"
   ]
  }
 ],
 "metadata": {
  "kernelspec": {
   "display_name": "Python 3 (ipykernel)",
   "language": "python",
   "name": "python3"
  },
  "language_info": {
   "codemirror_mode": {
    "name": "ipython",
    "version": 3
   },
   "file_extension": ".py",
   "mimetype": "text/x-python",
   "name": "python",
   "nbconvert_exporter": "python",
   "pygments_lexer": "ipython3",
   "version": "3.12.4"
  }
 },
 "nbformat": 4,
 "nbformat_minor": 5
}
