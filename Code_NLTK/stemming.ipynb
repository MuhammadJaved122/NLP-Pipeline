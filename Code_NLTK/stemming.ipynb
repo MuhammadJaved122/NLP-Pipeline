{
 "cells": [
  {
   "cell_type": "code",
   "execution_count": 3,
   "id": "25690584-f58d-47aa-b043-efb21d2b787b",
   "metadata": {},
   "outputs": [],
   "source": [
    "import nltk\n",
    "from nltk.stem import PorterStemmer\n",
    "from nltk.tokenize import word_tokenize"
   ]
  },
  {
   "cell_type": "code",
   "execution_count": 5,
   "id": "6d15ced7-c3b4-4c78-ace1-74db3fc91dce",
   "metadata": {},
   "outputs": [],
   "source": [
    "text = \"The dogs are running faster than the other dogs.\""
   ]
  },
  {
   "cell_type": "code",
   "execution_count": 7,
   "id": "a0dc893a-6aae-4291-87a5-cf9f4fb10b39",
   "metadata": {},
   "outputs": [],
   "source": [
    "tokens = word_tokenize(text)"
   ]
  },
  {
   "cell_type": "code",
   "execution_count": 9,
   "id": "adff4083-300d-4f38-8ef1-19cf6537055e",
   "metadata": {},
   "outputs": [],
   "source": [
    "stemmer = PorterStemmer()"
   ]
  },
  {
   "cell_type": "code",
   "execution_count": 11,
   "id": "ac03d6c3-e138-4c7c-852a-651e3cce9a41",
   "metadata": {},
   "outputs": [],
   "source": [
    "stemmed_tokens = []"
   ]
  },
  {
   "cell_type": "code",
   "execution_count": 13,
   "id": "9ce5b92b-7aed-4da4-900b-6cecf72430e3",
   "metadata": {},
   "outputs": [],
   "source": [
    "for word in tokens:\n",
    "    stemmed_tokens.append(stemmer.stem(word))"
   ]
  },
  {
   "cell_type": "code",
   "execution_count": 15,
   "id": "2be3ec88-aa6e-4e8f-9b23-5d8aa4d72425",
   "metadata": {},
   "outputs": [
    {
     "name": "stdout",
     "output_type": "stream",
     "text": [
      "['the', 'dog', 'are', 'run', 'faster', 'than', 'the', 'other', 'dog', '.']\n"
     ]
    }
   ],
   "source": [
    "print(stemmed_tokens)"
   ]
  },
  {
   "cell_type": "code",
   "execution_count": null,
   "id": "a5ee6ec0-f349-4573-9855-30b19eb97934",
   "metadata": {},
   "outputs": [],
   "source": []
  }
 ],
 "metadata": {
  "kernelspec": {
   "display_name": "Python 3 (ipykernel)",
   "language": "python",
   "name": "python3"
  },
  "language_info": {
   "codemirror_mode": {
    "name": "ipython",
    "version": 3
   },
   "file_extension": ".py",
   "mimetype": "text/x-python",
   "name": "python",
   "nbconvert_exporter": "python",
   "pygments_lexer": "ipython3",
   "version": "3.12.4"
  }
 },
 "nbformat": 4,
 "nbformat_minor": 5
}
