{
 "cells": [
  {
   "cell_type": "code",
   "execution_count": 4,
   "id": "cced335f-15a1-4451-b9dd-134914a779d5",
   "metadata": {},
   "outputs": [],
   "source": [
    "import nltk\n",
    "from nltk.stem import WordNetLemmatizer\n",
    "from nltk.tokenize import word_tokenize"
   ]
  },
  {
   "cell_type": "code",
   "execution_count": 6,
   "id": "df6f9ba9-346c-47ec-a49d-fb18fa2959c2",
   "metadata": {},
   "outputs": [],
   "source": [
    "text = \"The dogs are running faster than the other dogs.\""
   ]
  },
  {
   "cell_type": "code",
   "execution_count": 8,
   "id": "7cc2a101-c865-4180-b475-f5a0d2f1ac1c",
   "metadata": {},
   "outputs": [],
   "source": [
    "tokens = word_tokenize(text)"
   ]
  },
  {
   "cell_type": "code",
   "execution_count": 10,
   "id": "b02ecc86-5f67-49af-80aa-c02c4c16863a",
   "metadata": {},
   "outputs": [],
   "source": [
    "lemmatizer = WordNetLemmatizer()"
   ]
  },
  {
   "cell_type": "code",
   "execution_count": 12,
   "id": "5c03304e-75f4-4e88-83c8-c84a951ceeba",
   "metadata": {},
   "outputs": [],
   "source": [
    "lemmatized_tokens = []"
   ]
  },
  {
   "cell_type": "code",
   "execution_count": 14,
   "id": "051942b0-bf52-4775-9341-a4cc85ea9940",
   "metadata": {},
   "outputs": [],
   "source": [
    "for word in tokens:\n",
    "    lemmatized_tokens.append(lemmatizer.lemmatize(word))"
   ]
  },
  {
   "cell_type": "code",
   "execution_count": 16,
   "id": "65072ab3-2a0f-406a-86c8-438c782c3e9d",
   "metadata": {},
   "outputs": [
    {
     "name": "stdout",
     "output_type": "stream",
     "text": [
      "['The', 'dog', 'are', 'running', 'faster', 'than', 'the', 'other', 'dog', '.']\n"
     ]
    }
   ],
   "source": [
    "print(lemmatized_tokens)"
   ]
  },
  {
   "cell_type": "code",
   "execution_count": null,
   "id": "9bf29bd8-6cb5-4c66-89c7-50733c911b08",
   "metadata": {},
   "outputs": [],
   "source": []
  }
 ],
 "metadata": {
  "kernelspec": {
   "display_name": "Python 3 (ipykernel)",
   "language": "python",
   "name": "python3"
  },
  "language_info": {
   "codemirror_mode": {
    "name": "ipython",
    "version": 3
   },
   "file_extension": ".py",
   "mimetype": "text/x-python",
   "name": "python",
   "nbconvert_exporter": "python",
   "pygments_lexer": "ipython3",
   "version": "3.12.4"
  }
 },
 "nbformat": 4,
 "nbformat_minor": 5
}
