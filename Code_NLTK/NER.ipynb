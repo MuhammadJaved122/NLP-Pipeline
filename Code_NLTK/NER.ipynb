{
 "cells": [
  {
   "cell_type": "code",
   "execution_count": 5,
   "id": "9ed54335-38ec-4418-9615-99f8e1c899c1",
   "metadata": {},
   "outputs": [],
   "source": [
    "import nltk\n",
    "from nltk import word_tokenize, pos_tag, ne_chunk"
   ]
  },
  {
   "cell_type": "code",
   "execution_count": 7,
   "id": "ff4f0002-978e-4ea6-886b-856e8aadb040",
   "metadata": {},
   "outputs": [],
   "source": [
    "text = \"Barack Obama was born in Hawaii and was the president of the United States.\""
   ]
  },
  {
   "cell_type": "code",
   "execution_count": 9,
   "id": "8f5962a6-ef1c-45d0-8395-32e8fe911336",
   "metadata": {},
   "outputs": [],
   "source": [
    "tokens = word_tokenize(text)"
   ]
  },
  {
   "cell_type": "code",
   "execution_count": 11,
   "id": "c074f921-405f-474d-9d4a-e4de9f516320",
   "metadata": {},
   "outputs": [],
   "source": [
    "pos_tags = pos_tag(tokens)"
   ]
  },
  {
   "cell_type": "code",
   "execution_count": 13,
   "id": "2dc9e33f-1806-4bbe-84b1-e30629c6a546",
   "metadata": {},
   "outputs": [],
   "source": [
    "named_entities = ne_chunk(pos_tags)"
   ]
  },
  {
   "cell_type": "code",
   "execution_count": 15,
   "id": "ed92cb8e-4c54-46f4-af25-bba170f4b858",
   "metadata": {},
   "outputs": [
    {
     "name": "stdout",
     "output_type": "stream",
     "text": [
      "(S\n",
      "  (PERSON Barack/NNP)\n",
      "  (PERSON Obama/NNP)\n",
      "  was/VBD\n",
      "  born/VBN\n",
      "  in/IN\n",
      "  (GPE Hawaii/NNP)\n",
      "  and/CC\n",
      "  was/VBD\n",
      "  the/DT\n",
      "  president/NN\n",
      "  of/IN\n",
      "  the/DT\n",
      "  (GPE United/NNP States/NNPS)\n",
      "  ./.)\n"
     ]
    }
   ],
   "source": [
    "print(named_entities)"
   ]
  },
  {
   "cell_type": "code",
   "execution_count": null,
   "id": "6f9f508a-14b5-46d1-a1e9-70d25ca4082c",
   "metadata": {},
   "outputs": [],
   "source": []
  }
 ],
 "metadata": {
  "kernelspec": {
   "display_name": "Python 3 (ipykernel)",
   "language": "python",
   "name": "python3"
  },
  "language_info": {
   "codemirror_mode": {
    "name": "ipython",
    "version": 3
   },
   "file_extension": ".py",
   "mimetype": "text/x-python",
   "name": "python",
   "nbconvert_exporter": "python",
   "pygments_lexer": "ipython3",
   "version": "3.12.4"
  }
 },
 "nbformat": 4,
 "nbformat_minor": 5
}
