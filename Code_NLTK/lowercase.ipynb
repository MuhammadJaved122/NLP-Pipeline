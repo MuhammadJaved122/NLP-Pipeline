{
 "cells": [
  {
   "cell_type": "code",
   "execution_count": 1,
   "id": "fdbbc1c0-c441-4fbe-a7d7-b00f4bbeaca6",
   "metadata": {},
   "outputs": [],
   "source": [
    "import nltk\n",
    "from nltk.tokenize import word_tokenize"
   ]
  },
  {
   "cell_type": "code",
   "execution_count": 3,
   "id": "9f273c0c-0af8-4809-a438-fc61bade9af1",
   "metadata": {},
   "outputs": [],
   "source": [
    "# Example sentence\n",
    "text = \"Hello, World! Welcome to Natural Language Processing.\""
   ]
  },
  {
   "cell_type": "code",
   "execution_count": 5,
   "id": "5498b3bf-6013-4998-9997-865f60c4b3b4",
   "metadata": {},
   "outputs": [],
   "source": [
    "# Tokenize the text\n",
    "tokens = word_tokenize(text)"
   ]
  },
  {
   "cell_type": "code",
   "execution_count": 7,
   "id": "5996e4ee-c66a-4328-a890-73f6c44e93f1",
   "metadata": {},
   "outputs": [],
   "source": [
    "# Lowercasing each token\n",
    "lowercased_tokens = [token.lower() for token in tokens]"
   ]
  },
  {
   "cell_type": "code",
   "execution_count": 9,
   "id": "13289349-ed92-417d-be93-88caa3690b12",
   "metadata": {},
   "outputs": [
    {
     "name": "stdout",
     "output_type": "stream",
     "text": [
      "['hello', ',', 'world', '!', 'welcome', 'to', 'natural', 'language', 'processing', '.']\n"
     ]
    }
   ],
   "source": [
    "# Displaying the result\n",
    "print(lowercased_tokens)"
   ]
  },
  {
   "cell_type": "code",
   "execution_count": null,
   "id": "6c40f1d4-a7ef-4246-b38b-ab2d48b1cb2d",
   "metadata": {},
   "outputs": [],
   "source": []
  }
 ],
 "metadata": {
  "kernelspec": {
   "display_name": "Python 3 (ipykernel)",
   "language": "python",
   "name": "python3"
  },
  "language_info": {
   "codemirror_mode": {
    "name": "ipython",
    "version": 3
   },
   "file_extension": ".py",
   "mimetype": "text/x-python",
   "name": "python",
   "nbconvert_exporter": "python",
   "pygments_lexer": "ipython3",
   "version": "3.12.4"
  }
 },
 "nbformat": 4,
 "nbformat_minor": 5
}
