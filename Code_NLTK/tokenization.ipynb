{
 "cells": [
  {
   "cell_type": "code",
   "execution_count": 1,
   "id": "c71c9976-e5f5-43ff-bfea-09f6f8b91f27",
   "metadata": {},
   "outputs": [],
   "source": [
    "# Import necessary libraries\n",
    "import nltk\n",
    "from nltk.tokenize import word_tokenize, BlanklineTokenizer"
   ]
  },
  {
   "cell_type": "code",
   "execution_count": 3,
   "id": "e3082f3c-bc48-41c8-8eed-af6fff64873f",
   "metadata": {},
   "outputs": [],
   "source": [
    "\n",
    "text = \"\"\"This is the first paragraph.\n",
    "\n",
    "This is the second paragraph, which is a bit longer.\n",
    "\n",
    "This is the third one.\n",
    "\n",
    "Here's the fourth paragraph.\"\"\""
   ]
  },
  {
   "cell_type": "code",
   "execution_count": 5,
   "id": "3d3dd61e-175b-400b-abb9-b87793b2e250",
   "metadata": {},
   "outputs": [],
   "source": [
    "def nltk_paragraph_tokenization(text):\n",
    "    tokenizer = BlanklineTokenizer()\n",
    "    paragraphs = tokenizer.tokenize(text)\n",
    "    return paragraphs"
   ]
  },
  {
   "cell_type": "code",
   "execution_count": 7,
   "id": "dda158b8-519b-429a-b307-8a9455b78076",
   "metadata": {},
   "outputs": [],
   "source": [
    "nltk_paragraphs = nltk_paragraph_tokenization(text)"
   ]
  },
  {
   "cell_type": "code",
   "execution_count": 9,
   "id": "dee072e1-9832-4f82-a882-4f720c1fd8e8",
   "metadata": {},
   "outputs": [
    {
     "name": "stdout",
     "output_type": "stream",
     "text": [
      "NLTK Paragraph Tokenization:\n",
      " ['This is the first paragraph.', 'This is the second paragraph, which is a bit longer.', 'This is the third one.', \"Here's the fourth paragraph.\"]\n"
     ]
    }
   ],
   "source": [
    "print(\"NLTK Paragraph Tokenization:\\n\", nltk_paragraphs)"
   ]
  },
  {
   "cell_type": "code",
   "execution_count": 11,
   "id": "6beabdf9-a2c8-4ffe-81b0-6d0ab1ef9988",
   "metadata": {},
   "outputs": [],
   "source": [
    "tokens = word_tokenize(text)"
   ]
  },
  {
   "cell_type": "code",
   "execution_count": 15,
   "id": "3081825a-2e3b-4d96-9640-660e2313a84f",
   "metadata": {},
   "outputs": [
    {
     "name": "stdout",
     "output_type": "stream",
     "text": [
      "\n",
      "Word Tokenization:\n",
      " ['This', 'is', 'the', 'first', 'paragraph', '.', 'This', 'is', 'the', 'second', 'paragraph', ',', 'which', 'is', 'a', 'bit', 'longer', '.', 'This', 'is', 'the', 'third', 'one', '.', 'Here', \"'s\", 'the', 'fourth', 'paragraph', '.']\n"
     ]
    }
   ],
   "source": [
    "print(\"\\nWord Tokenization:\\n\", tokens)"
   ]
  },
  {
   "cell_type": "code",
   "execution_count": null,
   "id": "308f1d7d-ba7a-4169-a738-40e6bd3bc568",
   "metadata": {},
   "outputs": [],
   "source": []
  }
 ],
 "metadata": {
  "kernelspec": {
   "display_name": "Python 3 (ipykernel)",
   "language": "python",
   "name": "python3"
  },
  "language_info": {
   "codemirror_mode": {
    "name": "ipython",
    "version": 3
   },
   "file_extension": ".py",
   "mimetype": "text/x-python",
   "name": "python",
   "nbconvert_exporter": "python",
   "pygments_lexer": "ipython3",
   "version": "3.12.4"
  }
 },
 "nbformat": 4,
 "nbformat_minor": 5
}
