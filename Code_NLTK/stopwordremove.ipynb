{
 "cells": [
  {
   "cell_type": "code",
   "execution_count": 5,
   "id": "0afd95e0-cdcc-4f74-bb25-12f223566abc",
   "metadata": {},
   "outputs": [],
   "source": [
    "import nltk\n",
    "\n",
    "from nltk.corpus import stopwords\n",
    "from nltk.tokenize import word_tokenize\n"
   ]
  },
  {
   "cell_type": "code",
   "execution_count": 7,
   "id": "110f4e4f-d0c0-4931-9c74-bf18f42f2862",
   "metadata": {},
   "outputs": [],
   "source": [
    "text = \"This is a simple example sentence to show how to remove stopwords easily.\""
   ]
  },
  {
   "cell_type": "code",
   "execution_count": 9,
   "id": "2203306c-e59d-41d5-b6e2-618fffc5f366",
   "metadata": {},
   "outputs": [],
   "source": [
    "tokens = word_tokenize(text)"
   ]
  },
  {
   "cell_type": "code",
   "execution_count": 11,
   "id": "1936d2a9-2252-4d30-a172-95bd7cf0406c",
   "metadata": {},
   "outputs": [],
   "source": [
    "stop_words = set(stopwords.words('english'))"
   ]
  },
  {
   "cell_type": "code",
   "execution_count": 13,
   "id": "337b1a6b-5223-4bb6-9519-132c8acd69de",
   "metadata": {},
   "outputs": [],
   "source": [
    "filtered_tokens = [word for word in tokens if word.lower() not in stop_words]"
   ]
  },
  {
   "cell_type": "code",
   "execution_count": 15,
   "id": "285668fd-77c2-4d31-aac7-d3c0c6bac56c",
   "metadata": {},
   "outputs": [
    {
     "name": "stdout",
     "output_type": "stream",
     "text": [
      "['simple', 'example', 'sentence', 'show', 'remove', 'stopwords', 'easily', '.']\n"
     ]
    }
   ],
   "source": [
    "print(filtered_tokens)"
   ]
  },
  {
   "cell_type": "code",
   "execution_count": null,
   "id": "3e3e4b7e-f14a-452e-a07a-fb7b9b1cefc0",
   "metadata": {},
   "outputs": [],
   "source": []
  }
 ],
 "metadata": {
  "kernelspec": {
   "display_name": "Python 3 (ipykernel)",
   "language": "python",
   "name": "python3"
  },
  "language_info": {
   "codemirror_mode": {
    "name": "ipython",
    "version": 3
   },
   "file_extension": ".py",
   "mimetype": "text/x-python",
   "name": "python",
   "nbconvert_exporter": "python",
   "pygments_lexer": "ipython3",
   "version": "3.12.4"
  }
 },
 "nbformat": 4,
 "nbformat_minor": 5
}
