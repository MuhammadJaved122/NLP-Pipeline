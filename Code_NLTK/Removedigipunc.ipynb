{
 "cells": [
  {
   "cell_type": "code",
   "execution_count": 3,
   "id": "cf6ab365-fcc1-49fa-bc11-7b97e47fca96",
   "metadata": {},
   "outputs": [],
   "source": [
    "import re\n",
    "from nltk.tokenize import word_tokenize"
   ]
  },
  {
   "cell_type": "code",
   "execution_count": 5,
   "id": "fb2f5586-fa8f-4615-9218-9cf7f187c991",
   "metadata": {},
   "outputs": [],
   "source": [
    "text = \"The price is $50.25 for 3 items, isn't that amazing?\""
   ]
  },
  {
   "cell_type": "code",
   "execution_count": 7,
   "id": "6bb0a438-e02e-4203-b17d-13b53c5807e0",
   "metadata": {},
   "outputs": [],
   "source": [
    "tokens = word_tokenize(text)"
   ]
  },
  {
   "cell_type": "code",
   "execution_count": 9,
   "id": "7fa98d93-8bca-4db6-bf33-f63fa71ddcf1",
   "metadata": {},
   "outputs": [],
   "source": [
    "filtered_tokens = []"
   ]
  },
  {
   "cell_type": "code",
   "execution_count": 11,
   "id": "63d3c750-19ef-431c-8fb7-fa2ad89035cc",
   "metadata": {},
   "outputs": [],
   "source": [
    "for word in tokens:\n",
    "    # Use regex to filter out tokens that contain digits or punctuation\n",
    "    cleaned_word = re.sub(r'[^\\w\\s]', '', word)  # Remove punctuation\n",
    "    if cleaned_word.isalpha():  # Only keep words containing alphabetic characters\n",
    "        filtered_tokens.append(cleaned_word)"
   ]
  },
  {
   "cell_type": "code",
   "execution_count": 13,
   "id": "7778d1d7-265e-4090-bda8-6e43a2f5ef18",
   "metadata": {},
   "outputs": [
    {
     "name": "stdout",
     "output_type": "stream",
     "text": [
      "['The', 'price', 'is', 'for', 'items', 'is', 'nt', 'that', 'amazing']\n"
     ]
    }
   ],
   "source": [
    "print(filtered_tokens)"
   ]
  },
  {
   "cell_type": "code",
   "execution_count": null,
   "id": "551e2076-a2c1-40d1-ad09-1b4998ffc579",
   "metadata": {},
   "outputs": [],
   "source": []
  }
 ],
 "metadata": {
  "kernelspec": {
   "display_name": "Python 3 (ipykernel)",
   "language": "python",
   "name": "python3"
  },
  "language_info": {
   "codemirror_mode": {
    "name": "ipython",
    "version": 3
   },
   "file_extension": ".py",
   "mimetype": "text/x-python",
   "name": "python",
   "nbconvert_exporter": "python",
   "pygments_lexer": "ipython3",
   "version": "3.12.4"
  }
 },
 "nbformat": 4,
 "nbformat_minor": 5
}
