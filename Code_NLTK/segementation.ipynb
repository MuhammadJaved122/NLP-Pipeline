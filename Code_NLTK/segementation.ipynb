{
 "cells": [
  {
   "cell_type": "code",
   "execution_count": 1,
   "id": "3d832632-803e-4b3e-8b09-d5b12c9ccbf3",
   "metadata": {},
   "outputs": [
    {
     "name": "stdout",
     "output_type": "stream",
     "text": [
      "Sentence Segmentation:\n",
      " ['Natural language processing (NLP) is a sub-field of artificial intelligence (AI).', 'It focuses on the interaction between computers and humans through language.', 'In particular, it is interested in how to program computers to process large amounts of natural language data.'] \n",
      "\n",
      "Word Segmentation:\n",
      " ['Natural', 'language', 'processing', '(', 'NLP', ')', 'is', 'a', 'sub-field', 'of', 'artificial', 'intelligence', '(', 'AI', ')', '.', 'It', 'focuses', 'on', 'the', 'interaction', 'between', 'computers', 'and', 'humans', 'through', 'language', '.', 'In', 'particular', ',', 'it', 'is', 'interested', 'in', 'how', 'to', 'program', 'computers', 'to', 'process', 'large', 'amounts', 'of', 'natural', 'language', 'data', '.']\n"
     ]
    }
   ],
   "source": [
    "# Importing necessary libraries\n",
    "import nltk\n",
    "from nltk.tokenize import sent_tokenize, word_tokenize\n",
    "\n",
    "\n",
    "text = \"\"\"Natural language processing (NLP) is a sub-field of artificial intelligence (AI). \n",
    "It focuses on the interaction between computers and humans through language. \n",
    "In particular, it is interested in how to program computers to process large amounts of natural language data.\"\"\"\n",
    "\n",
    "def sentence_segmentation(text):\n",
    "    sentences = sent_tokenize(text)\n",
    "    return sentences\n",
    "\n",
    "# 2. Word Segmentation\n",
    "def word_segmentation(text):\n",
    "    words = word_tokenize(text)\n",
    "    return words\n",
    "\n",
    "# Running the segmentation functions\n",
    "sentences = sentence_segmentation(text)\n",
    "words = word_segmentation(text)\n",
    "\n",
    "# Displaying the segmented sentences and words\n",
    "print(\"Sentence Segmentation:\\n\", sentences, \"\\n\")\n",
    "print(\"Word Segmentation:\\n\", words)\n"
   ]
  },
  {
   "cell_type": "code",
   "execution_count": null,
   "id": "a8b61ba9-d795-4a0e-b3cf-c3e48a766713",
   "metadata": {},
   "outputs": [],
   "source": []
  }
 ],
 "metadata": {
  "kernelspec": {
   "display_name": "Python 3 (ipykernel)",
   "language": "python",
   "name": "python3"
  },
  "language_info": {
   "codemirror_mode": {
    "name": "ipython",
    "version": 3
   },
   "file_extension": ".py",
   "mimetype": "text/x-python",
   "name": "python",
   "nbconvert_exporter": "python",
   "pygments_lexer": "ipython3",
   "version": "3.12.4"
  }
 },
 "nbformat": 4,
 "nbformat_minor": 5
}
